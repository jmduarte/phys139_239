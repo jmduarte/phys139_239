{
 "cells": [
  {
   "cell_type": "markdown",
   "metadata": {},
   "source": [
    "# Hands-on 04: Image data and CNNs: Classifying astronomical images \n",
    "\n",
    "[Original Author: Andrew Connolly, University of Washington](http://faculty.washington.edu/ajc26/)\n",
    "Thanks to Hayden Smotherman, University of Washington for the example networks.\n",
    "\n",
    "In this notebook we work through a simple example for a neural network using Keras. \n",
    "Initially we will start with a vanila network with two hidden layers and then expand this to a convolutional neural network with drop out layers and batch normalization."
   ]
  },
  {
   "cell_type": "markdown",
   "metadata": {},
   "source": [
    "Deep learning, an extension of the neural networks that were popularized in the 1990s. \n",
    "The concepts are inspired by the structure and function of the brain.\n",
    "A neuron in the brain is a core computational unit that takes a series of inputs from branched extensions of the neuron called dendrites, operates on these inputs, and generates an output that is transmitted along an axon to one or more other neurons. \n",
    "In the context of a neural network a neuron, $j$, takes a set of inputs, $x_i$, applies a, typically nonlinear, function to these inputs and generates an output value. Networks are then created by connecting multiple neurons or layers of neurons to one another."
   ]
  },
  {
   "cell_type": "markdown",
   "metadata": {},
   "source": [
    "![Neural Network Diagram](images/fig_neural_network-1.png)"
   ]
  },
  {
   "cell_type": "markdown",
   "metadata": {},
   "source": [
    "If we consider the simplified network inputs are passed to the neurons in the network. \n",
    "Each input is weighted by a value, $w_{ij}$ and the sum of these weighted inputs is operated on by a response or activation function $f(\\theta)$, which transform the input signal so that it varies between 0 and 1 through the application of a nonlinear response. \n",
    "The output from any neuron is then given by,\n",
    "\n",
    "$$\n",
    "a_j =  f  \\left( \\sum_i w_{ij} x_i + b_j \\right)\n",
    "$$\n",
    "\n",
    "where $b_j$ is a bias term which determines the input level at which the neuron becomes activated."
   ]
  },
  {
   "cell_type": "markdown",
   "metadata": {},
   "source": [
    "We refer to the neurons between the inputs and the output layers as the hidden layers. \n",
    "If the neurons from one layer connect to all neurons in a subsequent layer we call this a fully connected layer.\n",
    "When the outputs from the neurons only connect to subsequent layers (i.e. the graph is acyclic) we refer to this as a feed-forward network -- this is the most common structure for a neural network used in classification. \n",
    "\n",
    "The final layer in the network is the output layer. \n",
    "As with the hidden layer, an activation function, $g(\\theta)$, in the output layer acts on the weighted sum of its inputs.\n",
    "In this figure we have a single output node but there can be multiple outputs. For our example  network the output from the final neuron, $y_k$, would be given by\n",
    "\n",
    "$$\n",
    "y_k = g \\left( \\sum_j   w_{jk} a_j  + b_k \\right)  = g\\left( \\sum_j\n",
    "  w_{jk}  f \\left( \\sum_i w_{ij} x_i + b_j\\right) + b_k\\right)\n",
    "$$\n",
    "\n",
    "**Training of the network is simply the learning of the weights and bias values**"
   ]
  },
  {
   "cell_type": "code",
   "execution_count": null,
   "metadata": {},
   "outputs": [],
   "source": [
    "# to reduce the deprecation warnings\n",
    "import warnings\n",
    "\n",
    "warnings.filterwarnings(\"ignore\")"
   ]
  },
  {
   "cell_type": "code",
   "execution_count": null,
   "metadata": {},
   "outputs": [],
   "source": [
    "import numpy as np\n",
    "import matplotlib.pyplot as plt\n",
    "\n",
    "%matplotlib inline"
   ]
  },
  {
   "cell_type": "markdown",
   "metadata": {},
   "source": [
    "### Loading some visualization and helper functions\n",
    "\n",
    "These helper functions  ```normalize_image```, ```plot_image_array```, ```plot_confusion_matrix```, ```plot_model_history``` will be used to visualize the data and the outputs of the neural networks as a function of the type and complexity of the network"
   ]
  },
  {
   "cell_type": "code",
   "execution_count": null,
   "metadata": {},
   "outputs": [],
   "source": [
    "from plotting import normalize_image, plot_image_array, plot_confusion_matrix, plot_model_history"
   ]
  },
  {
   "cell_type": "markdown",
   "metadata": {},
   "source": [
    "### Load the training samples and create test and validation data sets\n",
    "\n",
    "The data we are using is taken from a survey for NEOs by Lori Allen and collaborators using DECam on the Blanco 4m Telescope at CTIO. \n",
    "The data comprise a stack of images taken over a period of 5 nights. Within these images we search for slowly moving sources (TNOs) along potential orbital trajectories. \n",
    "Given these trajectories we coadd the images. Our goal is to determine whether there is a point source within the coadded images. \n",
    "The training sample includes images of simulated TNOs (true positives; `stamps_sources.npz`) and random trajectories where there is no known source (false positives; `stamps_noise.npz`). \n",
    "The true positives range in signal-to-noise from 100 to 3"
   ]
  },
  {
   "cell_type": "code",
   "execution_count": null,
   "metadata": {},
   "outputs": [],
   "source": [
    "# Brute force direct downloads source and noise images to circumvent size limitations\n",
    "# for google drive internal virus scan. Download may take some time.\n",
    "\n",
    "import os\n",
    "import requests\n",
    "\n",
    "files = {\n",
    "    \"sources\": (os.path.join(\"data\", \"stamps_noise.npy\"), \"1UT2BCf-IDUEpvTmcU4bq6nDcY3Ayw5vJ\"),\n",
    "    \"noise\": (os.path.join(\"data\", \"stamps_sources.npy\"), \"1cZaMCA0z_nPX6GB_meLGouwOidEROcwc\"),\n",
    "}\n",
    "\n",
    "for name, file_id in files.values():\n",
    "    if not os.path.exists(name):\n",
    "        print(f\"Downloading file {name}.\")\n",
    "\n",
    "        os.makedirs(os.path.dirname(name), exist_ok=True)\n",
    "        url = f\"https://docs.google.com/uc?export=download&id={file_id}&confirm=t\"\n",
    "        response = requests.post(url)\n",
    "        with open(name, \"wb\") as file:\n",
    "            file.write(response.content)\n",
    "    print(f\"File {name} is downloaded\")\n",
    "\n",
    "sources = np.load(files[\"sources\"][0])\n",
    "noise = np.load(files[\"noise\"][0])"
   ]
  },
  {
   "cell_type": "code",
   "execution_count": null,
   "metadata": {},
   "outputs": [],
   "source": [
    "# normalizing images\n",
    "\n",
    "point_source_stamps = []\n",
    "for image in sources:\n",
    "    point_source_stamps.append(normalize_image(image))\n",
    "\n",
    "no_point_source_stamps = []\n",
    "for image in noise:\n",
    "    no_point_source_stamps.append(normalize_image(image))"
   ]
  },
  {
   "cell_type": "code",
   "execution_count": null,
   "metadata": {},
   "outputs": [],
   "source": [
    "# plot sample of images\n",
    "plot_image_array(no_point_source_stamps, title=\"False positives\")\n",
    "plot_image_array(point_source_stamps, title=\"True positives\")"
   ]
  },
  {
   "cell_type": "markdown",
   "metadata": {},
   "source": [
    "### Create a training, validation, and test sample\n",
    "\n",
    "We will use ` sklearn.model_selection.train_test_split` to split the data in to random selections with appropriate fractions of sources."
   ]
  },
  {
   "cell_type": "code",
   "execution_count": null,
   "metadata": {},
   "outputs": [],
   "source": [
    "from tensorflow.keras.utils import to_categorical\n",
    "from sklearn.model_selection import train_test_split\n",
    "\n",
    "\n",
    "def reshape_arrays(data, labels):\n",
    "    \"\"\"reshape arrays for Keras\"\"\"\n",
    "    data = data.reshape(-1, 21, 21, 1)\n",
    "    labels = to_categorical(labels)\n",
    "    return data, labels\n",
    "\n",
    "\n",
    "# combine the false positives and true positives\n",
    "input_stamps = np.vstack([no_point_source_stamps, point_source_stamps])\n",
    "stamp_class = np.zeros(len(no_point_source_stamps) + len(point_source_stamps))\n",
    "stamp_class[len(no_point_source_stamps) :] = 1  # 0 for noise, 1 for a star\n",
    "\n",
    "# split the samples into training, validation and, test data sets:\n",
    "train_frac = 0.7\n",
    "val_frac = 0.1\n",
    "test_frac = 0.2\n",
    "# Note: we have to use train_test_split twice\n",
    "data_train_val, data_test, class_train_val, class_test = train_test_split(\n",
    "    input_stamps, stamp_class, test_size=test_frac, random_state=42\n",
    ")\n",
    "data_train, data_val, class_train, class_val = train_test_split(\n",
    "    input_stamps, stamp_class, test_size=val_frac / (train_frac + val_frac), random_state=42\n",
    ")\n",
    "\n",
    "data_train, class_train = reshape_arrays(data_train, class_train)\n",
    "data_val, class_val = reshape_arrays(data_val, class_val)\n",
    "data_test, class_test = reshape_arrays(data_test, class_test)\n",
    "\n",
    "print(\n",
    "    f\"Number of samples in the training ({data_train.shape[0]}); test ({data_test.shape[0]}); and validation ({data_val.shape[0]}) data sets\"\n",
    ")\n",
    "\n",
    "print(\n",
    "    f\"Fraction of true samples in the training ({np.sum(class_train[:,0])/data_train.shape[0]}); test ({np.sum(class_test[:,0])/data_test.shape[0]}); and validation ({np.sum(class_val[:,0])/data_val.shape[0]}) data sets\"\n",
    ")"
   ]
  },
  {
   "cell_type": "markdown",
   "metadata": {},
   "source": [
    "## Neural network frameworks\n",
    "\n",
    "The development and release of open source deep learning libraries has made the use of deep neural networks accessible to a wide range of fields. \n",
    "Currently there are two common packages PyTorch (https://pytorch.org) and Tensorflow/Keras (https://www.tensorflow.org). \n",
    "Either code base can be utilized for this course (and generally they have the same functionality). \n",
    "\n",
    "### TensorFlow + Keras:\n",
    "\n",
    "TensorFlow is the more established code base, especially for \"production.\"\n",
    "Keras is a high-level API written on top of TensorFlow, which in my opinion is easier for beginners to get their hands dirty.\n",
    "It is written in Python and provides a simple and intuitive interface when building neural networks. \n",
    "It is currently released as part of TensorFlow.\n",
    "\n",
    "### PyTorch:\n",
    "The primary difference between TensorFlow and PyTorch is that the networks (or graphs) that TensorFlow generates are static while the networks for PyTorch are dynamic (see TensorFlow Fold for dynamic graphs).\n",
    "This means that with PyTorch one can modify and adjust the network on-the-fly (e.g., making it easier to adjust for changes in the input dimensionality or number of input nodes within a network). \n",
    "This feature and the object-oriented design of PyTorch often results in fewer lines of code to achieve the same solution when compared to TensorFlow.\n",
    "\n",
    "**What should you choose?** \n",
    "Both frameworks are continuously evolving.\n",
    "The choice of deep learning library will likely come down to which one you find better fits your style of programming and learning. \n",
    "For this tutorial we will use Keras as it has an intuitive implementation of the graphical or network models."
   ]
  },
  {
   "cell_type": "markdown",
   "metadata": {},
   "source": [
    "### Building a network:\n",
    "\n",
    "Let's start by defining what we need for the network. \n",
    "We will start with Keras and\n",
    "- create a sequential model (this means we add layers one-by-one as we see in our introductory figure)\n",
    "- add a dense (fully connected) layer with 30 neurons \n",
    "  - **`input_shape`** describes the dimensionality of the _input data_ to this first hidden layer\n",
    "  - **`activation`** describes the activation fuction for the neurons (in this case we will be using `\"relu\"`, i.e. a rectified linear unit)\n",
    "- add a second dense (fully connected) layer with 30 neurons\n",
    "- flatten the output of the second layer into a single vector so we can use ```categorical_crossentropy``` as we are assuming that our classes are \"one-hot encoding\" (i.e. `[1, 0]` or `[0, 1]`\n",
    "- add an output layer using \"softmax\" (this means the activation values for each class sum to 1 so they can be treated like probabilities) with 2 nodes (_for our example we could have used a single output_)"
   ]
  },
  {
   "cell_type": "markdown",
   "metadata": {},
   "source": [
    "### Training the network\n",
    "Training a neural network is conceptually simple. \n",
    "Given a labeled set of data and a loss function, we need to optimize the weights and biases within the network by minimizing the loss.\n",
    "A solution for training large networks uses backpropagation to efficiently estimate the gradient of the loss function with respect to the weights and biases."
   ]
  },
  {
   "cell_type": "markdown",
   "metadata": {},
   "source": [
    "## Creating a neural network with Keras"
   ]
  },
  {
   "cell_type": "code",
   "execution_count": null,
   "metadata": {},
   "outputs": [],
   "source": [
    "from tensorflow.keras.models import Sequential\n",
    "from tensorflow.keras.layers import Dense, Conv2D, Flatten, Activation\n",
    "from tensorflow.keras.utils import to_categorical\n",
    "\n",
    "\n",
    "def simple(input_shape=(21, 21, 1), n_classes: int = 2):\n",
    "\n",
    "    model = Sequential(name=\"simple\")\n",
    "\n",
    "    # input: 21x21 images with 1 channel -> (21, 21, 1) tensors.\n",
    "    model.add(Dense(30, input_shape=input_shape, activation=\"relu\", name=\"fc_1\"))\n",
    "\n",
    "    model.add(Dense(30, activation=\"relu\", name=\"fc_2\"))\n",
    "\n",
    "    # output layer\n",
    "    model.add(Flatten(name=\"flatten_1\"))\n",
    "    activation = \"sigmoid\" if n_classes == 1 else \"softmax\"\n",
    "    model.add(Dense(n_classes, activation=activation, name=\"fc_out\"))\n",
    "\n",
    "    return model"
   ]
  },
  {
   "cell_type": "code",
   "execution_count": null,
   "metadata": {},
   "outputs": [],
   "source": [
    "# Output the structure of the model\n",
    "simple_model = simple()\n",
    "simple_model.summary()"
   ]
  },
  {
   "cell_type": "code",
   "execution_count": null,
   "metadata": {},
   "outputs": [],
   "source": [
    "n_epochs = 1\n",
    "batch_size = 1\n",
    "simple_model.compile(loss=\"categorical_crossentropy\", optimizer=\"sgd\", metrics=[\"accuracy\"])\n",
    "simple_model_history = simple_model.fit(\n",
    "    data_train,\n",
    "    class_train,\n",
    "    epochs=n_epochs,\n",
    "    batch_size=batch_size,\n",
    "    verbose=0,\n",
    "    validation_data=(data_val, class_val),\n",
    "    shuffle=True,\n",
    ")"
   ]
  },
  {
   "cell_type": "markdown",
   "metadata": {},
   "source": [
    "### Excercise\n",
    "\n",
    "**Mini-batch:** Optimization of the weights uses a standard gradient descent technique. \n",
    "If the loss function can be expressed in terms of a sum over subsets of the training data (e.g., as is the case for the L2 norm) the training can be undertaken either for the dataset as a whole, for subsets of the data (batch learning), or for individual entries (on-line or stochastic learning). \n",
    "_Batch gradient descent_ looks at all points in the data and calculates the average gradients before updating the weights in the model. \n",
    "_Stochastic gradient descent_ takes a single point and calculates the gradients and then updates the model (and then repeats). \n",
    "_Mini-batch gradient descent_ takes a subset of the training data and  calculates the average gradients and  updates the model  (and then repeats over all mini-batches)."
   ]
  },
  {
   "cell_type": "code",
   "execution_count": null,
   "metadata": {},
   "outputs": [],
   "source": [
    "# Implement training with:\n",
    "# n_epochs = 20\n",
    "# batch_size = 1024"
   ]
  },
  {
   "cell_type": "markdown",
   "metadata": {},
   "source": [
    "### Performance of the network"
   ]
  },
  {
   "cell_type": "code",
   "execution_count": null,
   "metadata": {},
   "outputs": [],
   "source": [
    "# use the network to predict class values\n",
    "classes = simple_model.predict(data_test, verbose=0)\n",
    "print(classes)"
   ]
  },
  {
   "cell_type": "code",
   "execution_count": null,
   "metadata": {},
   "outputs": [],
   "source": [
    "# plot the confusion matrix\n",
    "plot_confusion_matrix(np.argmax(class_test, axis=1), np.argmax(classes, axis=1), normalize=True)"
   ]
  },
  {
   "cell_type": "code",
   "execution_count": null,
   "metadata": {},
   "outputs": [],
   "source": [
    "# plot the training history of the network\n",
    "plot_model_history(simple_model_history)"
   ]
  },
  {
   "cell_type": "markdown",
   "metadata": {},
   "source": [
    "### Batch normalization\n",
    "\n",
    "Our first optimization over the vanila NN. \n",
    "Batch normalization scales the activations from a layer (note we normalized the input data) to have zero mean and unit variance. \n",
    "In reality, the two parameters gamma (for the standard deviation) and beta (for the mean) are learned by the network and the activations multiplied/added by these parameters. \n",
    "Batch normalization provides a degree of regularization and allows for faster learning rates as the outputs are constrained to 0-1 (i.e. you dont get large excursions in the weights of subsequent layers in a network that need to be reoptimized/trained). \n",
    "\n",
    "The normalization is applied to mini-batches of training data (as opposed to using the full training sample)\n",
    "- add a batch normalization layer:  \n",
    "```python\n",
    "model.add(BatchNormalization(axis=3, name = 'bn_1'))\n",
    "```"
   ]
  },
  {
   "cell_type": "code",
   "execution_count": null,
   "metadata": {},
   "outputs": [],
   "source": [
    "from tensorflow.keras.layers import BatchNormalization\n",
    "\n",
    "\n",
    "def simpleBN(input_shape=(21, 21, 1), n_classes: int = 2):\n",
    "\n",
    "    model = Sequential(name=\"simple\")\n",
    "\n",
    "    # input: 21x21 images with 1 channel -> (21, 21, 1) tensors.\n",
    "    model.add(Dense(30, input_shape=input_shape, activation=\"relu\", name=\"fc_1\"))\n",
    "    model.add(Dense(30, activation=\"relu\", name=\"fc_2\"))\n",
    "\n",
    "    # output layer\n",
    "    model.add(Flatten())\n",
    "    activation = \"sigmoid\" if n_classes == 1 else \"softmax\"\n",
    "    model.add(Dense(n_classes, activation=activation, name=\"fc_out\"))\n",
    "\n",
    "    return model"
   ]
  },
  {
   "cell_type": "code",
   "execution_count": null,
   "metadata": {},
   "outputs": [],
   "source": [
    "# Implement training with:\n",
    "simple_bn_model = simpleBN()\n",
    "n_epochs = 20\n",
    "batch_size = 1024"
   ]
  },
  {
   "cell_type": "code",
   "execution_count": null,
   "metadata": {},
   "outputs": [],
   "source": [
    "# Plot normalized confusion matrix"
   ]
  },
  {
   "cell_type": "code",
   "execution_count": null,
   "metadata": {},
   "outputs": [],
   "source": [
    "# Plot model history"
   ]
  },
  {
   "cell_type": "markdown",
   "metadata": {},
   "source": [
    "### Convolutional neural networks\n",
    "\n",
    "\n",
    "Convolutional neural networks (CNNs) are networks designed to work with images or with any regularly sampled dataset. \n",
    "CNNs reduce the complexity of the network by requiring that neurons only respond to inputs from a subset of an\n",
    "image (the receptive field). \n",
    "This mimics the operation of the visual cortex where neurons only respond to a small part of the field-of-view.\n",
    "\n",
    "There are four principal components to a CNN:\n",
    "- a convolutional layer,\n",
    "- a _nonlinear activation function_ ,\n",
    "- a pooling or downsampling operation, and\n",
    "- a _fully connected layer for classification_\n",
    "\n",
    "Dependent on the complexity of the network or structure of the data, these components can occur singularly or chained together in multiple sequences."
   ]
  },
  {
   "cell_type": "markdown",
   "metadata": {},
   "source": [
    "![Convolutional Neural Network](images/fig_cnn_1.png)"
   ]
  },
  {
   "cell_type": "markdown",
   "metadata": {},
   "source": [
    "**Convolution** in a CNN refers to the convolution  of the input data\n",
    "$I(x,y)$ with a kernel $K(x,y)$ which will produce a feature map $F(x,y)$\n",
    "\n",
    "\\begin{equation}\n",
    "F(x,y) = K(x,y) * I(x,y)  = \\sum_{x_0} \\sum_{y_0} I(x-x_0, y-y_0) K(x_0, y_0).\n",
    "\\end{equation}\n",
    "\n",
    "The kernel only responds to pixels within its receptive field (i.e., the size of the kernel), reducing the computational complexity of the resulting network. \n",
    "The kernels in the convolution are described by a depth (the number of kernels, $K$, applied to the image), and a stride (how many pixels a kernel shifts at each step in the convolution; typically one).  \n",
    "Given an $N\\times M$ image, the result of the convolution step is to transform a single image into a data cube of feature maps with a dimension $N \\times M \\times K$.\n",
    "\n",
    "Once **learned** the kernels within the convolutional layer can appear as physically intuitive operations on the images such as edge detection filters.\n",
    "\n",
    "\n",
    "As with traditional neural networks, a nonlinear activation function is applied to the individual pixels in the resulting feature maps. \n",
    "\n",
    "\n",
    "The **pooling** in the CNN downsamples or subsamples the feature maps. \n",
    "Pooling summarizes values within a region of interest (e.g., a $2\\times 2$ pixel window). \n",
    "The summary can be the average pixel value but more commonly the maximum pixel value is preserved (max pooling) in the downsampling.\n",
    "This pooling of the feature maps reduces the size of the resulting network and makes the network less sensitive to small translations or distortions between images.\n",
    "\n",
    "The final layer of a CNN is the classification layer which maps the output of the CNN to a set of labels. This is typically a fully connected layer where each output of the final pooling layer connects to all neurons in the classification layer."
   ]
  },
  {
   "cell_type": "markdown",
   "metadata": {},
   "source": [
    "### CNNs: Increasing the complexity of the architecture with VGG6\n",
    "\n",
    "Let's start with a simple network architecture from Oxford's Visual Geometry Group. VGG6 is a very simple network that performs well in traditional image classification competitions (e.g. those using the ImageNet data)"
   ]
  },
  {
   "cell_type": "code",
   "execution_count": null,
   "metadata": {},
   "outputs": [],
   "source": [
    "from tensorflow.keras.models import Sequential\n",
    "from tensorflow.keras.layers import BatchNormalization, Dense, Conv2D, MaxPooling2D, Dropout, Flatten\n",
    "from tensorflow.keras.utils import to_categorical\n",
    "\n",
    "\n",
    "def vgg6(input_shape=(21, 21, 1), n_classes: int = 2):\n",
    "    \"\"\"\n",
    "        VGG6\n",
    "    :param input_shape:\n",
    "    :param n_classes:\n",
    "    :return:\n",
    "    \"\"\"\n",
    "\n",
    "    model = Sequential(name=\"VGG6\")\n",
    "    # input: 21x21 images with 1 channel -> (21, 21, 1) tensors.\n",
    "    # this applies 16 convolution filters of size 3x3 each.\n",
    "    model.add(Conv2D(16, (3, 3), input_shape=input_shape, name=\"conv1\", padding=\"same\"))\n",
    "    model.add(BatchNormalization(axis=3, name=\"bn_1\"))\n",
    "    model.add(Activation(\"relu\", name=\"relu_1\"))\n",
    "    model.add(MaxPooling2D(pool_size=(2, 2), name=\"pool_1\"))\n",
    "    model.add(Dropout(0.25, name=\"dropout_1\"))\n",
    "\n",
    "    model.add(Conv2D(32, (3, 3), name=\"conv2\", padding=\"same\"))\n",
    "    model.add(BatchNormalization(axis=3, name=\"bn_2\"))\n",
    "    model.add(Activation(\"relu\", name=\"relu_2\"))\n",
    "    model.add(MaxPooling2D(pool_size=(2, 2), name=\"pool_2\"))\n",
    "    model.add(Dropout(0.25, name=\"dropout_2\"))\n",
    "\n",
    "    model.add(Flatten(name=\"flatten_1\"))\n",
    "\n",
    "    model.add(Dense(256, activation=\"relu\", name=\"fc_1\"))\n",
    "    model.add(Dropout(0.5, name=\"dropout_4\"))\n",
    "    # output layer\n",
    "    activation = \"sigmoid\" if n_classes == 1 else \"softmax\"\n",
    "    model.add(Dense(n_classes, activation=activation, name=\"fc_out\"))\n",
    "\n",
    "    return model"
   ]
  },
  {
   "cell_type": "markdown",
   "metadata": {},
   "source": [
    "### The use of dropout layers\n",
    "\n",
    "As we increase the complexity of the network we run into the issue of overfitting the data (as seen in many of the astroML examples). \n",
    "The dropout layer `model.add(Dropout(0.5))` at each training epoch randomly sets a neuron to 0 with a probability of 0.5. \n",
    "There is debate over whether the dropout layer should come before or after an activation layer but a recommended rule of thumb is that it should come after the activation layer for activation functions other than relu."
   ]
  },
  {
   "cell_type": "code",
   "execution_count": null,
   "metadata": {},
   "outputs": [],
   "source": [
    "vgg_model = vgg6()\n",
    "vgg_model.compile(loss=\"categorical_crossentropy\", optimizer=\"sgd\", metrics=[\"accuracy\"])\n",
    "vgg_model.summary()"
   ]
  },
  {
   "cell_type": "code",
   "execution_count": null,
   "metadata": {},
   "outputs": [],
   "source": [
    "# Implement VGG6 training for 20 epochs (rather than 1)\n",
    "n_epochs = 1\n",
    "batch_size = 1024\n",
    "\n",
    "vgg_model_history = vgg_model.fit(\n",
    "    data_train,\n",
    "    class_train,\n",
    "    epochs=n_epochs,\n",
    "    batch_size=batch_size,\n",
    "    verbose=0,\n",
    "    validation_data=(data_val, class_val),\n",
    "    shuffle=True,\n",
    ")\n",
    "classes = vgg_model.predict(data_test, verbose=0)"
   ]
  },
  {
   "cell_type": "code",
   "execution_count": null,
   "metadata": {},
   "outputs": [],
   "source": [
    "# plot the confusion matrix\n",
    "\n",
    "plot_confusion_matrix(np.argmax(class_test, axis=1), np.argmax(classes, axis=1), normalize=True)"
   ]
  },
  {
   "cell_type": "code",
   "execution_count": null,
   "metadata": {},
   "outputs": [],
   "source": [
    "# plot the training history"
   ]
  },
  {
   "cell_type": "code",
   "execution_count": null,
   "metadata": {},
   "outputs": [],
   "source": [
    "# plot example classifications with plot_image_array"
   ]
  },
  {
   "cell_type": "markdown",
   "metadata": {},
   "source": [
    "### Interpreting networks: how many layers and how many neurons?\n",
    "\n",
    "The number of layers, number of neurons in a layer, and the\n",
    "connectivity of these layers is typically described as the network\n",
    "architecture.  \n",
    "\n",
    "\n",
    "Approaches to defining a network\n",
    "architecture become more trial and error than applying an underlying\n",
    "set of principles. For a starting point, however, there are relatively\n",
    "few problems that benefit significantly from more than two layers and\n",
    "we recommend starting with a single layer when training an initial\n",
    "network and using cross-validation to determine when additional layers\n",
    "lead result in the data being overfit.\n",
    "\n",
    "As with the number of layers, the number of neurons within a layer\n",
    "drives the computational cost (and requiring progressively larger\n",
    "training sets to avoid overfitting of the data). There are many\n",
    "proposals for rules of thumb for defining a network architecture:\n",
    "- the number of neurons should lie between the number of inputs and output nodes\n",
    "- the number of neurons should be equal to the number of outputs plus 2/3rd the number input nodes.\n",
    "- the number of neurons in the hidden layer should be less than twice the size of the input layers"
   ]
  },
  {
   "cell_type": "markdown",
   "metadata": {},
   "source": [
    "### Interpreting networks: where is a network looking\n",
    "\n",
    "Occulsion maps, saliency maps, class activation maps are all techniques for expressing which pixels contribute to classification. These are attempts to reduce the \"black box\" nature of the networks.\n",
    "The simplest of these is the occlusion map where we mask part of an image and calculate the probability of it belonging to a class.\n",
    "If the probability decreases the occluded part of the image is assumed to be important. If there is no change in probability the occluded pixels are not assumed to be important.\n",
    "A simple implementation of this is shown here."
   ]
  },
  {
   "cell_type": "code",
   "execution_count": null,
   "metadata": {},
   "outputs": [],
   "source": [
    "model = vgg_model\n",
    "image_number = 15\n",
    "\n",
    "kernel_size = 5\n",
    "input_stamp = data_test[image_number].reshape(21, 21)\n",
    "i = 0\n",
    "j = 0\n",
    "heatmap = []\n",
    "keras_stamps = []\n",
    "for j in range(22 - kernel_size):\n",
    "    for i in range(22 - kernel_size):\n",
    "        img = np.copy(input_stamp)\n",
    "        img[i : i + kernel_size, j : j + kernel_size] = 0\n",
    "        img = normalize_image(img)\n",
    "        keras_stamps.append(img)\n",
    "keras_stamps = np.array(keras_stamps).reshape([-1, 21, 21, 1])\n",
    "probs = 1.0 - model.predict(keras_stamps)\n",
    "heatmap = probs[:, 1].reshape(22 - kernel_size, 22 - kernel_size)\n",
    "\n",
    "\n",
    "def transparent_cmap(cmap, N=255):\n",
    "    \"Copy colormap and set alpha values\"\n",
    "    mycmap = cmap\n",
    "    mycmap._init()\n",
    "    mycmap._lut[:, -1] = np.linspace(0, 0.8, N + 4)\n",
    "    return mycmap\n",
    "\n",
    "\n",
    "# pad heatmap to same size as original image\n",
    "heatmap = np.pad(heatmap, pad_width=int(kernel_size / 2), mode=\"minimum\")\n",
    "\n",
    "# use the base cmap to create transparent overlay\n",
    "mycmap = transparent_cmap(plt.cm.Reds)\n",
    "fig, ax = plt.subplots(nrows=1, ncols=1)\n",
    "im = ax.imshow(data_test[image_number].reshape(21, 21), cmap=\"gray\", origin=\"lower\")\n",
    "heatmap_im = ax.imshow(np.array(heatmap), alpha=0.5, cmap=mycmap, origin=\"lower\")\n",
    "ax.set_ylabel(\"y\")\n",
    "ax.set_xlabel(\"x\")\n",
    "cbar = plt.colorbar(im)\n",
    "cbar_heatmap = plt.colorbar(heatmap_im)\n",
    "cbar.set_label(\"Pixel intensity\")\n",
    "cbar_heatmap.set_label(\"Occlusion map\")\n",
    "plt.show()"
   ]
  },
  {
   "cell_type": "markdown",
   "metadata": {},
   "source": [
    "### Exercise for the reader: more complicated architectures: resnet50"
   ]
  },
  {
   "cell_type": "code",
   "execution_count": null,
   "metadata": {},
   "outputs": [],
   "source": [
    "# Based on https://github.com/priya-dwivedi/Deep-Learning/blob/master/resnet_keras/Residual_Networks_yourself.ipynb\n",
    "from tensorflow.keras.layers import (\n",
    "    Input,\n",
    "    Add,\n",
    "    Dense,\n",
    "    Activation,\n",
    "    ZeroPadding2D,\n",
    "    BatchNormalization,\n",
    "    Flatten,\n",
    "    Conv2D,\n",
    "    AveragePooling2D,\n",
    "    MaxPooling2D,\n",
    "    GlobalMaxPooling2D,\n",
    ")\n",
    "from tensorflow.keras.initializers import glorot_uniform\n",
    "from tensorflow.keras.models import Model, load_model\n",
    "from tensorflow.keras.utils import to_categorical\n",
    "import tensorflow.keras.backend as K\n",
    "\n",
    "K.set_image_data_format(\"channels_last\")\n",
    "\n",
    "\n",
    "def identity_block(X, f, filters, stage, block):\n",
    "    \"\"\"\n",
    "    Implementation of the identity block as defined in Figure 3\n",
    "\n",
    "    Arguments:\n",
    "    X -- input tensor of shape (m, n_H_prev, n_W_prev, n_C_prev)\n",
    "    f -- integer, specifying the shape of the middle CONV's window for the main path\n",
    "    filters -- python list of integers, defining the number of filters in the CONV layers of the main path\n",
    "    stage -- integer, used to name the layers, depending on their position in the network\n",
    "    block -- string/character, used to name the layers, depending on their position in the network\n",
    "\n",
    "    Returns:\n",
    "    X -- output of the identity block, tensor of shape (n_H, n_W, n_C)\n",
    "    \"\"\"\n",
    "\n",
    "    # defining name basis\n",
    "    conv_name_base = \"res\" + str(stage) + block + \"_branch\"\n",
    "    bn_name_base = \"bn\" + str(stage) + block + \"_branch\"\n",
    "\n",
    "    # Retrieve Filters\n",
    "    F1, F2, F3 = filters\n",
    "\n",
    "    # Save the input value. You'll need this later to add back to the main path.\n",
    "    X_shortcut = X\n",
    "\n",
    "    # First component of main path\n",
    "    X = Conv2D(\n",
    "        filters=F1,\n",
    "        kernel_size=(1, 1),\n",
    "        strides=(1, 1),\n",
    "        padding=\"valid\",\n",
    "        name=conv_name_base + \"2a\",\n",
    "        kernel_initializer=glorot_uniform(seed=0),\n",
    "    )(X)\n",
    "    X = BatchNormalization(axis=3, name=bn_name_base + \"2a\")(X)\n",
    "    X = Activation(\"relu\")(X)\n",
    "\n",
    "    # Second component of main path (≈3 lines)\n",
    "    X = Conv2D(\n",
    "        filters=F2,\n",
    "        kernel_size=(f, f),\n",
    "        strides=(1, 1),\n",
    "        padding=\"same\",\n",
    "        name=conv_name_base + \"2b\",\n",
    "        kernel_initializer=glorot_uniform(seed=0),\n",
    "    )(X)\n",
    "    X = BatchNormalization(axis=3, name=bn_name_base + \"2b\")(X)\n",
    "    X = Activation(\"relu\")(X)\n",
    "\n",
    "    # Third component of main path (≈2 lines)\n",
    "    X = Conv2D(\n",
    "        filters=F3,\n",
    "        kernel_size=(1, 1),\n",
    "        strides=(1, 1),\n",
    "        padding=\"valid\",\n",
    "        name=conv_name_base + \"2c\",\n",
    "        kernel_initializer=glorot_uniform(seed=0),\n",
    "    )(X)\n",
    "    X = BatchNormalization(axis=3, name=bn_name_base + \"2c\")(X)\n",
    "\n",
    "    # Final step: Add shortcut value to main path, and pass it through a RELU activation (≈2 lines)\n",
    "    X = Add()([X, X_shortcut])\n",
    "    X = Activation(\"relu\")(X)\n",
    "\n",
    "    return X\n",
    "\n",
    "\n",
    "def convolutional_block(X, f, filters, stage, block, s=2):\n",
    "    \"\"\"\n",
    "    Implementation of the convolutional block as defined in Figure 4\n",
    "\n",
    "    Arguments:\n",
    "    X -- input tensor of shape (m, n_H_prev, n_W_prev, n_C_prev)\n",
    "    f -- integer, specifying the shape of the middle CONV's window for the main path\n",
    "    filters -- python list of integers, defining the number of filters in the CONV layers of the main path\n",
    "    stage -- integer, used to name the layers, depending on their position in the network\n",
    "    block -- string/character, used to name the layers, depending on their position in the network\n",
    "    s -- Integer, specifying the stride to be used\n",
    "\n",
    "    Returns:\n",
    "    X -- output of the convolutional block, tensor of shape (n_H, n_W, n_C)\n",
    "    \"\"\"\n",
    "\n",
    "    # defining name basis\n",
    "    conv_name_base = \"res\" + str(stage) + block + \"_branch\"\n",
    "    bn_name_base = \"bn\" + str(stage) + block + \"_branch\"\n",
    "\n",
    "    # Retrieve Filters\n",
    "    F1, F2, F3 = filters\n",
    "\n",
    "    # Save the input value\n",
    "    X_shortcut = X\n",
    "\n",
    "    ##### MAIN PATH #####\n",
    "    # First component of main path\n",
    "    X = Conv2D(F1, (1, 1), strides=(s, s), name=conv_name_base + \"2a\", kernel_initializer=glorot_uniform(seed=0))(X)\n",
    "    X = BatchNormalization(axis=3, name=bn_name_base + \"2a\")(X)\n",
    "    X = Activation(\"relu\")(X)\n",
    "\n",
    "    # Second component of main path (≈3 lines)\n",
    "    X = Conv2D(\n",
    "        filters=F2,\n",
    "        kernel_size=(f, f),\n",
    "        strides=(1, 1),\n",
    "        padding=\"same\",\n",
    "        name=conv_name_base + \"2b\",\n",
    "        kernel_initializer=glorot_uniform(seed=0),\n",
    "    )(X)\n",
    "    X = BatchNormalization(axis=3, name=bn_name_base + \"2b\")(X)\n",
    "    X = Activation(\"relu\")(X)\n",
    "\n",
    "    # Third component of main path (≈2 lines)\n",
    "    X = Conv2D(\n",
    "        filters=F3,\n",
    "        kernel_size=(1, 1),\n",
    "        strides=(1, 1),\n",
    "        padding=\"valid\",\n",
    "        name=conv_name_base + \"2c\",\n",
    "        kernel_initializer=glorot_uniform(seed=0),\n",
    "    )(X)\n",
    "    X = BatchNormalization(axis=3, name=bn_name_base + \"2c\")(X)\n",
    "\n",
    "    ##### SHORTCUT PATH #### (≈2 lines)\n",
    "    X_shortcut = Conv2D(\n",
    "        filters=F3,\n",
    "        kernel_size=(1, 1),\n",
    "        strides=(s, s),\n",
    "        padding=\"valid\",\n",
    "        name=conv_name_base + \"1\",\n",
    "        kernel_initializer=glorot_uniform(seed=0),\n",
    "    )(X_shortcut)\n",
    "    X_shortcut = BatchNormalization(axis=3, name=bn_name_base + \"1\")(X_shortcut)\n",
    "\n",
    "    # Final step: Add shortcut value to main path, and pass it through a RELU activation (≈2 lines)\n",
    "    X = Add()([X, X_shortcut])\n",
    "    X = Activation(\"relu\")(X)\n",
    "\n",
    "    return X\n",
    "\n",
    "\n",
    "def ResNet50(input_shape=(21, 21, 1), classes=2):\n",
    "    \"\"\"\n",
    "    Implementation of the popular ResNet50 the following architecture:\n",
    "    CONV2D -> BATCHNORM -> RELU -> MAXPOOL -> CONVBLOCK -> IDBLOCK*2 -> CONVBLOCK -> IDBLOCK*3\n",
    "    -> CONVBLOCK -> IDBLOCK*5 -> CONVBLOCK -> IDBLOCK*2 -> AVGPOOL -> TOPLAYER\n",
    "\n",
    "    Arguments:\n",
    "    input_shape -- shape of the images of the dataset\n",
    "    classes -- integer, number of classes\n",
    "\n",
    "    Returns:\n",
    "    model -- a Model() instance in Keras\n",
    "    \"\"\"\n",
    "\n",
    "    # Define the input as a tensor with shape input_shape\n",
    "    X_input = Input(input_shape)\n",
    "\n",
    "    # Zero-Padding\n",
    "    X = ZeroPadding2D((3, 3))(X_input)\n",
    "\n",
    "    # Stage 1\n",
    "    X = Conv2D(64, (7, 7), strides=(2, 2), name=\"conv1\", kernel_initializer=glorot_uniform(seed=0))(X)\n",
    "    X = BatchNormalization(axis=3, name=\"bn_conv1\")(X)\n",
    "    X = Activation(\"relu\")(X)\n",
    "    X = MaxPooling2D((3, 3), strides=(2, 2))(X)\n",
    "\n",
    "    # Stage 2\n",
    "    X = convolutional_block(X, f=3, filters=[64, 64, 256], stage=2, block=\"a\", s=1)\n",
    "    X = identity_block(X, 3, [64, 64, 256], stage=2, block=\"b\")\n",
    "    X = identity_block(X, 3, [64, 64, 256], stage=2, block=\"c\")\n",
    "\n",
    "    ### START CODE HERE ###\n",
    "\n",
    "    # Stage 3 (≈4 lines)\n",
    "    X = convolutional_block(X, f=3, filters=[128, 128, 512], stage=3, block=\"a\", s=2)\n",
    "    X = identity_block(X, 3, [128, 128, 512], stage=3, block=\"b\")\n",
    "    X = identity_block(X, 3, [128, 128, 512], stage=3, block=\"c\")\n",
    "    X = identity_block(X, 3, [128, 128, 512], stage=3, block=\"d\")\n",
    "\n",
    "    # Stage 4 (≈6 lines)\n",
    "    X = convolutional_block(X, f=3, filters=[256, 256, 1024], stage=4, block=\"a\", s=2)\n",
    "    X = identity_block(X, 3, [256, 256, 1024], stage=4, block=\"b\")\n",
    "    X = identity_block(X, 3, [256, 256, 1024], stage=4, block=\"c\")\n",
    "    X = identity_block(X, 3, [256, 256, 1024], stage=4, block=\"d\")\n",
    "    X = identity_block(X, 3, [256, 256, 1024], stage=4, block=\"e\")\n",
    "    X = identity_block(X, 3, [256, 256, 1024], stage=4, block=\"f\")\n",
    "\n",
    "    # Stage 5 (≈3 lines)\n",
    "    X = convolutional_block(X, f=3, filters=[512, 512, 2048], stage=5, block=\"a\", s=2)\n",
    "    X = identity_block(X, 3, [512, 512, 2048], stage=5, block=\"b\")\n",
    "    X = identity_block(X, 3, [512, 512, 2048], stage=5, block=\"c\")\n",
    "\n",
    "    # AVGPOOL (≈1 line). Use \"X = AveragePooling2D(...)(X)\"\n",
    "    # X = AveragePooling2D((2,2), name=\"avg_pool\")(X)\n",
    "\n",
    "    ### END CODE HERE ###\n",
    "\n",
    "    # output layer\n",
    "    X = Flatten()(X)\n",
    "    X = Dense(classes, activation=\"softmax\", name=\"fc\" + str(classes), kernel_initializer=glorot_uniform(seed=0))(X)\n",
    "\n",
    "    # Create model\n",
    "    model = Model(inputs=X_input, outputs=X, name=\"ResNet50\")\n",
    "\n",
    "    return model"
   ]
  },
  {
   "cell_type": "code",
   "execution_count": null,
   "metadata": {},
   "outputs": [],
   "source": [
    "# Train ResNet50 with categorical cross entropy loss for 5 epochs and a batch size of 256"
   ]
  }
 ],
 "metadata": {
  "jupytext": {
   "formats": "ipynb,md:myst"
  },
  "kernelspec": {
   "display_name": "Python 3 (ipykernel)",
   "language": "python",
   "name": "python3"
  },
  "language_info": {
   "codemirror_mode": {
    "name": "ipython",
    "version": 3
   },
   "file_extension": ".py",
   "mimetype": "text/x-python",
   "name": "python",
   "nbconvert_exporter": "python",
   "pygments_lexer": "ipython3",
   "version": "3.9.5"
  },
  "toc": {
   "base_numbering": 1,
   "nav_menu": {},
   "number_sections": true,
   "sideBar": true,
   "skip_h1_title": false,
   "title_cell": "Table of Contents",
   "title_sidebar": "Contents",
   "toc_cell": false,
   "toc_position": {},
   "toc_section_display": true,
   "toc_window_display": true
  },
  "vscode": {
   "interpreter": {
    "hash": "3bc6754db226b2390134565509b5b20033a016438649ba8213a18c508557097e"
   }
  }
 },
 "nbformat": 4,
 "nbformat_minor": 4
}
